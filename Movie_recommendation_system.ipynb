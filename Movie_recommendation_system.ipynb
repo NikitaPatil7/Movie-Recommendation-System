{
 "cells": [
  {
   "cell_type": "code",
   "execution_count": 1,
   "id": "f587b919",
   "metadata": {},
   "outputs": [],
   "source": [
    "import pandas as pd\n",
    "import numpy as np\n",
    "import ast\n",
    "from sklearn.feature_extraction.text import TfidfVectorizer\n",
    "from sklearn.metrics.pairwise import cosine_similarity\n",
    "from textblob import TextBlob"
   ]
  },
  {
   "cell_type": "code",
   "execution_count": 2,
   "id": "dfa2c76f",
   "metadata": {},
   "outputs": [],
   "source": [
    "# Load datasets\n",
    "movies_df = pd.read_csv(\"tmdb_5000_movies.csv\")\n",
    "credits_df = pd.read_csv(\"tmdb_5000_credits.csv\")"
   ]
  },
  {
   "cell_type": "code",
   "execution_count": 3,
   "id": "12bbd428",
   "metadata": {},
   "outputs": [],
   "source": [
    "# Merge datasets on movie ID\n",
    "movies_df = movies_df.merge(credits_df, left_on='id', right_on='movie_id')"
   ]
  },
  {
   "cell_type": "code",
   "execution_count": 4,
   "id": "cf5afac6",
   "metadata": {},
   "outputs": [],
   "source": [
    "# Select relevant features\n",
    "def parse_features(data):\n",
    "    return ' '.join([i['name'] for i in ast.literal_eval(data)]) if isinstance(data, str) else ''"
   ]
  },
  {
   "cell_type": "code",
   "execution_count": 5,
   "id": "a52fd095",
   "metadata": {},
   "outputs": [],
   "source": [
    "movies_df['genres'] = movies_df['genres'].apply(parse_features)\n",
    "movies_df['keywords'] = movies_df['keywords'].apply(parse_features)\n",
    "movies_df['cast'] = movies_df['cast'].apply(lambda x: ' '.join([i['name'] for i in ast.literal_eval(x)[:3]]) if isinstance(x, str) else '')\n",
    "movies_df['crew'] = movies_df['crew'].apply(lambda x: ' '.join([i['name'] for i in ast.literal_eval(x) if i['job'] == 'Director']) if isinstance(x, str) else '')"
   ]
  },
  {
   "cell_type": "code",
   "execution_count": 6,
   "id": "e1a48451",
   "metadata": {},
   "outputs": [],
   "source": [
    "# Combine features\n",
    "def combine_features(row):\n",
    "    return row['genres'] + ' ' + row['keywords'] + ' ' + row['cast'] + ' ' + row['crew']\n",
    "\n",
    "movies_df['features'] = movies_df.apply(combine_features, axis=1)"
   ]
  },
  {
   "cell_type": "code",
   "execution_count": 7,
   "id": "189a3800",
   "metadata": {},
   "outputs": [],
   "source": [
    "# TF-IDF Vectorization\n",
    "vectorizer = TfidfVectorizer(stop_words='english')\n",
    "tfidf_matrix = vectorizer.fit_transform(movies_df['features'])\n"
   ]
  },
  {
   "cell_type": "code",
   "execution_count": 8,
   "id": "9360ccc8",
   "metadata": {},
   "outputs": [],
   "source": [
    "# Compute similarity scores\n",
    "cosine_sim = cosine_similarity(tfidf_matrix, tfidf_matrix)"
   ]
  },
  {
   "cell_type": "code",
   "execution_count": 9,
   "id": "a6e064e0",
   "metadata": {},
   "outputs": [],
   "source": [
    "# Sentiment Analysis function\n",
    "def get_sentiment(user_input):\n",
    "    sentiment = TextBlob(user_input).sentiment.polarity\n",
    "    if sentiment > 0:\n",
    "        return \"positive\"\n",
    "    elif sentiment < 0:\n",
    "        return \"negative\"\n",
    "    else:\n",
    "        return \"neutral\""
   ]
  },
  {
   "cell_type": "code",
   "execution_count": 10,
   "id": "b1346d4a",
   "metadata": {},
   "outputs": [],
   "source": [
    "# Recommendation function with sentiment analysis\n",
    "def recommend_movies(movie_title, user_mood, num_recommendations=5):\n",
    "    if movie_title not in movies_df['title_x'].values:\n",
    "        return \"Movie not found in dataset.\"\n",
    "    \n",
    "    idx = movies_df[movies_df['title_x'] == movie_title].index[0]\n",
    "    sim_scores = list(enumerate(cosine_sim[idx]))\n",
    "    sim_scores = sorted(sim_scores, key=lambda x: x[1], reverse=True)\n",
    "    top_indices = [i[0] for i in sim_scores[1:num_recommendations+1]]\n",
    "    \n",
    "    recommended_movies = movies_df['title_x'].iloc[top_indices].tolist()\n",
    "    \n",
    "    if user_mood == \"positive\":\n",
    "        return recommended_movies[:3]\n",
    "    elif user_mood == \"negative\":\n",
    "        return recommended_movies[-3:]\n",
    "    else:\n",
    "        return recommended_movies"
   ]
  },
  {
   "cell_type": "code",
   "execution_count": 11,
   "id": "59e37135",
   "metadata": {},
   "outputs": [
    {
     "name": "stdout",
     "output_type": "stream",
     "text": [
      "Movies similar to 'The Dark Knight' based on mood (positive): ['Batman Begins', 'The Dark Knight Rises', 'Batman Returns']\n"
     ]
    }
   ],
   "source": [
    "# Example Usage\n",
    "movie_name = \"The Dark Knight\"\n",
    "user_review = \"I am feeling great today!\"\n",
    "user_mood = get_sentiment(user_review)\n",
    "recommended_movies = recommend_movies(movie_name, user_mood)\n",
    "print(f\"Movies similar to '{movie_name}' based on mood ({user_mood}):\", recommended_movies)"
   ]
  },
  {
   "cell_type": "code",
   "execution_count": null,
   "id": "8d708309",
   "metadata": {},
   "outputs": [],
   "source": []
  }
 ],
 "metadata": {
  "kernelspec": {
   "display_name": "Python 3 (ipykernel)",
   "language": "python",
   "name": "python3"
  },
  "language_info": {
   "codemirror_mode": {
    "name": "ipython",
    "version": 3
   },
   "file_extension": ".py",
   "mimetype": "text/x-python",
   "name": "python",
   "nbconvert_exporter": "python",
   "pygments_lexer": "ipython3",
   "version": "3.11.5"
  }
 },
 "nbformat": 4,
 "nbformat_minor": 5
}
